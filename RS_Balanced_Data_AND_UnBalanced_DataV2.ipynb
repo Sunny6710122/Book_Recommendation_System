{
  "cells": [
    {
      "cell_type": "markdown",
      "source": [
        "# **Model Trained with Balanced Data and Rating Scale (1-6)**"
      ],
      "metadata": {
        "id": "TZXK5fgtnX4P"
      },
      "id": "TZXK5fgtnX4P"
    },
    {
      "cell_type": "code",
      "source": [
        "import pandas as pd\n",
        "import numpy as np\n",
        "from sklearn.model_selection import train_test_split\n",
        "from sklearn.preprocessing import LabelEncoder, MinMaxScaler\n",
        "from tensorflow.keras.models import Model\n",
        "from tensorflow.keras.layers import Input, Embedding, Flatten, Dense, Concatenate, Dropout\n",
        "from tensorflow.keras.optimizers import Adam\n",
        "\n",
        "# Load data\n",
        "# If using Kaggle, ensure the Kaggle API is configured and download the dataset\n",
        "# If using files, replace the path variables with file paths\n",
        "def load_data():\n",
        "    users = pd.read_csv('BX-Users.csv', sep=';', encoding='latin-1')\n",
        "    books = pd.read_csv('BX_Books.csv', sep=';', encoding='latin-1', on_bad_lines='skip')\n",
        "    ratings = pd.read_csv('BX-Book-Ratings.csv', sep=';', encoding='latin-1')\n",
        "\n",
        "    return users, books, ratings\n",
        "\n",
        "users, books, ratings = load_data()\n",
        "\n",
        "# Preprocessing Users Table\n",
        "users['Age'].fillna(users['Age'].median(), inplace=True)\n",
        "users['Location'] = users['Location'].str.split(',').str[-1].str.strip()  # Simplify to country level\n",
        "\n",
        "# Preprocessing Books Table\n",
        "books['Book-Title'].fillna('Unknown', inplace=True)\n",
        "books['Book-Author'].fillna('Unknown', inplace=True)\n",
        "books['Year-Of-Publication'].fillna(books['Year-Of-Publication'].median(), inplace=True)\n",
        "\n",
        "# Filter ratings and merge\n",
        "ratings = ratings[ratings['Book-Rating'] > 0]  # Remove implicit feedback\n",
        "ratings = ratings.merge(users, on='User-ID').merge(books, on='ISBN')\n",
        "\n",
        "# Indexing Book ID starting from 1\n",
        "ratings['Book-ID'] = pd.factorize(ratings['ISBN'])[0] + 1\n",
        "\n",
        "# Label encoding categorical variables\n",
        "user_encoder = LabelEncoder()\n",
        "ratings['User-ID'] = user_encoder.fit_transform(ratings['User-ID'])\n",
        "\n",
        "location_encoder = LabelEncoder()\n",
        "ratings['Location'] = location_encoder.fit_transform(ratings['Location'])\n",
        "\n",
        "book_title_encoder = LabelEncoder()\n",
        "ratings['Book-Title'] = book_title_encoder.fit_transform(ratings['Book-Title'])\n",
        "\n",
        "book_author_encoder = LabelEncoder()\n",
        "ratings['Book-Author'] = book_author_encoder.fit_transform(ratings['Book-Author'])\n",
        "\n",
        "# Scale numerical features\n",
        "scaler = MinMaxScaler()\n",
        "ratings['Age'] = scaler.fit_transform(ratings[['Age']])\n",
        "ratings['Year-Of-Publication'] = scaler.fit_transform(ratings[['Year-Of-Publication']])\n",
        "\n",
        "# Label ratings\n",
        "ratings['Label'] = (ratings['Book-Rating'] > 6).astype(int)\n",
        "\n",
        "\n",
        "\n",
        "# Count the number of samples in each class\n",
        "class_counts = ratings['Label'].value_counts()\n",
        "print(\"Class distribution before downsampling:\")\n",
        "print(class_counts)\n",
        "\n",
        "# Separate the majority and minority classes\n",
        "majority_class = ratings[ratings['Label'] == 1]\n",
        "minority_class = ratings[ratings['Label'] == 0]\n",
        "\n",
        "# Downsample the majority class to match the minority class size\n",
        "majority_downsampled = majority_class.sample(n=len(minority_class), random_state=42)\n",
        "\n",
        "# Combine the downsampled majority class with the minority class\n",
        "balanced_ratings = pd.concat([minority_class, majority_downsampled])\n",
        "\n",
        "# Shuffle the combined dataset\n",
        "balanced_ratings = balanced_ratings.sample(frac=1, random_state=42).reset_index(drop=True)\n",
        "\n",
        "# Verify the new class distribution\n",
        "print(\"Class distribution after downsampling:\")\n",
        "print(balanced_ratings['Label'].value_counts())\n",
        "\n",
        "# Plot the balanced class distribution\n",
        "import seaborn as sns\n",
        "import matplotlib.pyplot as plt\n",
        "\n",
        "sns.countplot(x='Label', data=balanced_ratings)\n",
        "plt.title('Balanced Label Distribution After Downsampling')\n",
        "plt.show()\n",
        "\n",
        "# Update the features and labels\n",
        "X_balanced = balanced_ratings[['User-ID', 'Location', 'Age', 'Book-ID', 'Book-Title', 'Book-Author', 'Year-Of-Publication']]\n",
        "y_balanced = balanced_ratings['Label']\n",
        "\n",
        "# Train-test split on the balanced data\n",
        "X_train, X_test, y_train, y_test = train_test_split(X_balanced, y_balanced, test_size=0.2, random_state=42)\n",
        "\n",
        "\n",
        "# Define the neural network\n",
        "def build_model(num_users, num_locations, num_books, num_titles, num_authors, embedding_dim=100):\n",
        "    # Inputs\n",
        "    user_input = Input(shape=(1,), name='User-ID')\n",
        "    location_input = Input(shape=(1,), name='Location')\n",
        "    age_input = Input(shape=(1,), name='Age')\n",
        "    book_input = Input(shape=(1,), name='Book-ID')\n",
        "    title_input = Input(shape=(1,), name='Book-Title')\n",
        "    author_input = Input(shape=(1,), name='Book-Author')\n",
        "    year_input = Input(shape=(1,), name='Year-Of-Publication')\n",
        "\n",
        "    # Embedding layers\n",
        "    user_embedding = Embedding(num_users, embedding_dim, input_length=1)(user_input)\n",
        "    location_embedding = Embedding(num_locations, embedding_dim, input_length=1)(location_input)\n",
        "    book_embedding = Embedding(num_books, embedding_dim, input_length=1)(book_input)\n",
        "    title_embedding = Embedding(num_titles, embedding_dim, input_length=1)(title_input)\n",
        "    author_embedding = Embedding(num_authors, embedding_dim, input_length=1)(author_input)\n",
        "\n",
        "    # Flatten embeddings\n",
        "    user_flat = Flatten()(user_embedding)\n",
        "    location_flat = Flatten()(location_embedding)\n",
        "    book_flat = Flatten()(book_embedding)\n",
        "    title_flat = Flatten()(title_embedding)\n",
        "    author_flat = Flatten()(author_embedding)\n",
        "\n",
        "    # Combine all features\n",
        "    features = Concatenate()([user_flat, location_flat, age_input, book_flat, title_flat, author_flat, year_input])\n",
        "\n",
        "    # Dense layers\n",
        "    dense = Dense(256, activation='relu')(features)\n",
        "    dense = Dropout(0.5)(dense)\n",
        "    dense = Dense(128, activation='relu')(dense)\n",
        "    dense = Dropout(0.5)(dense)\n",
        "    dense = Dense(64, activation='relu')(dense)\n",
        "    dense = Dropout(0.5)(dense)\n",
        "    output = Dense(1, activation='sigmoid')(dense)\n",
        "\n",
        "    # Model\n",
        "    model = Model(inputs=[user_input, location_input, age_input, book_input, title_input, author_input, year_input], outputs=output)\n",
        "    model.compile(optimizer=Adam(learning_rate=0.001), loss='binary_crossentropy', metrics=['accuracy'])\n",
        "\n",
        "    return model\n",
        "\n",
        "# Build the model\n",
        "num_users = ratings['User-ID'].nunique()+1\n",
        "num_locations = ratings['Location'].nunique()+1\n",
        "num_books = ratings['Book-ID'].nunique()+1\n",
        "num_titles = ratings['Book-Title'].nunique()+1\n",
        "num_authors = ratings['Book-Author'].nunique()+1\n",
        "\n",
        "model = build_model(num_users, num_locations, num_books, num_titles, num_authors)\n",
        "\n",
        "\n"
      ],
      "metadata": {
        "colab": {
          "base_uri": "https://localhost:8080/",
          "height": 1000
        },
        "id": "LjjdqaSJFh9c",
        "outputId": "e9ff2ba5-af0e-47a3-d256-556cf52dc1c7"
      },
      "id": "LjjdqaSJFh9c",
      "execution_count": null,
      "outputs": [
        {
          "output_type": "stream",
          "name": "stderr",
          "text": [
            "<ipython-input-3-95b2621d467f>:22: FutureWarning: A value is trying to be set on a copy of a DataFrame or Series through chained assignment using an inplace method.\n",
            "The behavior will change in pandas 3.0. This inplace method will never work because the intermediate object on which we are setting values always behaves as a copy.\n",
            "\n",
            "For example, when doing 'df[col].method(value, inplace=True)', try using 'df.method({col: value}, inplace=True)' or df[col] = df[col].method(value) instead, to perform the operation inplace on the original object.\n",
            "\n",
            "\n",
            "  users['Age'].fillna(users['Age'].median(), inplace=True)\n",
            "<ipython-input-3-95b2621d467f>:26: FutureWarning: A value is trying to be set on a copy of a DataFrame or Series through chained assignment using an inplace method.\n",
            "The behavior will change in pandas 3.0. This inplace method will never work because the intermediate object on which we are setting values always behaves as a copy.\n",
            "\n",
            "For example, when doing 'df[col].method(value, inplace=True)', try using 'df.method({col: value}, inplace=True)' or df[col] = df[col].method(value) instead, to perform the operation inplace on the original object.\n",
            "\n",
            "\n",
            "  books['Book-Title'].fillna('Unknown', inplace=True)\n",
            "<ipython-input-3-95b2621d467f>:27: FutureWarning: A value is trying to be set on a copy of a DataFrame or Series through chained assignment using an inplace method.\n",
            "The behavior will change in pandas 3.0. This inplace method will never work because the intermediate object on which we are setting values always behaves as a copy.\n",
            "\n",
            "For example, when doing 'df[col].method(value, inplace=True)', try using 'df.method({col: value}, inplace=True)' or df[col] = df[col].method(value) instead, to perform the operation inplace on the original object.\n",
            "\n",
            "\n",
            "  books['Book-Author'].fillna('Unknown', inplace=True)\n",
            "<ipython-input-3-95b2621d467f>:28: FutureWarning: A value is trying to be set on a copy of a DataFrame or Series through chained assignment using an inplace method.\n",
            "The behavior will change in pandas 3.0. This inplace method will never work because the intermediate object on which we are setting values always behaves as a copy.\n",
            "\n",
            "For example, when doing 'df[col].method(value, inplace=True)', try using 'df.method({col: value}, inplace=True)' or df[col] = df[col].method(value) instead, to perform the operation inplace on the original object.\n",
            "\n",
            "\n",
            "  books['Year-Of-Publication'].fillna(books['Year-Of-Publication'].median(), inplace=True)\n"
          ]
        },
        {
          "output_type": "stream",
          "name": "stdout",
          "text": [
            "Class distribution before downsampling:\n",
            "Label\n",
            "1    290217\n",
            "0     93635\n",
            "Name: count, dtype: int64\n",
            "Class distribution after downsampling:\n",
            "Label\n",
            "0    93635\n",
            "1    93635\n",
            "Name: count, dtype: int64\n"
          ]
        },
        {
          "output_type": "display_data",
          "data": {
            "text/plain": [
              "<Figure size 640x480 with 1 Axes>"
            ],
            "image/png": "[encoded data removed]"
          },
          "metadata": {}
        },
        {
          "output_type": "stream",
          "name": "stderr",
          "text": [
            "/usr/local/lib/python3.10/dist-packages/keras/src/layers/core/embedding.py:90: UserWarning: Argument `input_length` is deprecated. Just remove it.\n",
            "  warnings.warn(\n"
          ]
        }
      ]
    },
    {
      "cell_type": "code",
      "source": [
        "ratings['Label'].count().sum()"
      ],
      "metadata": {
        "colab": {
          "base_uri": "https://localhost:8080/"
        },
        "id": "x6d5wI1rf9D8",
        "outputId": "ce8f15f5-8945-4236-e9f0-95fd915f78f2"
      },
      "id": "x6d5wI1rf9D8",
      "execution_count": null,
      "outputs": [
        {
          "output_type": "execute_result",
          "data": {
            "text/plain": [
              "383852"
            ]
          },
          "metadata": {},
          "execution_count": 8
        }
      ]
    },
    {
      "cell_type": "code",
      "source": [
        "# Ensure inputs are NumPy arrays with correct data types\n",
        "X_train_prepared = [\n",
        "    np.array(X_train['User-ID'], dtype=np.int32),\n",
        "    np.array(X_train['Location'], dtype=np.int32),\n",
        "    np.array(X_train['Age'], dtype=np.float32),\n",
        "    np.array(X_train['Book-ID'], dtype=np.int32),\n",
        "    np.array(X_train['Book-Title'], dtype=np.int32),\n",
        "    np.array(X_train['Book-Author'], dtype=np.int32),\n",
        "    np.array(X_train['Year-Of-Publication'], dtype=np.float32),\n",
        "]\n",
        "\n",
        "X_test_prepared = [\n",
        "    np.array(X_test['User-ID'], dtype=np.int32),\n",
        "    np.array(X_test['Location'], dtype=np.int32),\n",
        "    np.array(X_test['Age'], dtype=np.float32),\n",
        "    np.array(X_test['Book-ID'], dtype=np.int32),\n",
        "    np.array(X_test['Book-Title'], dtype=np.int32),\n",
        "    np.array(X_test['Book-Author'], dtype=np.int32),\n",
        "    np.array(X_test['Year-Of-Publication'], dtype=np.float32),\n",
        "]\n",
        "\n",
        "# Labels as NumPy arrays\n",
        "y_train_prepared = np.array(y_train, dtype=np.float32)\n",
        "y_test_prepared = np.array(y_test, dtype=np.float32)\n",
        "\n",
        "# Train the model\n",
        "history = model.fit(\n",
        "    X_train_prepared,\n",
        "    y_train_prepared,\n",
        "    validation_split=0.2,\n",
        "    epochs=10,\n",
        "    batch_size=128,\n",
        "    verbose=1\n",
        ")\n",
        "\n",
        "# Evaluate the model\n",
        "loss, accuracy = model.evaluate(X_test_prepared, y_test_prepared)\n",
        "\n",
        "print(f\"Test Accuracy: {accuracy:.2f}\")\n"
      ],
      "metadata": {
        "colab": {
          "base_uri": "https://localhost:8080/"
        },
        "id": "WMnlGKgIHpav",
        "outputId": "8494cd6d-94f0-4e7a-d3d1-3bb81698dfa2"
      },
      "id": "WMnlGKgIHpav",
      "execution_count": null,
      "outputs": [
        {
          "output_type": "stream",
          "name": "stdout",
          "text": [
            "Epoch 1/10\n",
            "\u001b[1m937/937\u001b[0m \u001b[32m━━━━━━━━━━━━━━━━━━━━\u001b[0m\u001b[37m\u001b[0m \u001b[1m497s\u001b[0m 527ms/step - accuracy: 0.5721 - loss: 0.6623 - val_accuracy: 0.6611 - val_loss: 0.6026\n",
            "Epoch 2/10\n",
            "\u001b[1m937/937\u001b[0m \u001b[32m━━━━━━━━━━━━━━━━━━━━\u001b[0m\u001b[37m\u001b[0m \u001b[1m496s\u001b[0m 529ms/step - accuracy: 0.8131 - loss: 0.4252 - val_accuracy: 0.6444 - val_loss: 0.6712\n",
            "Epoch 3/10\n",
            "\u001b[1m937/937\u001b[0m \u001b[32m━━━━━━━━━━━━━━━━━━━━\u001b[0m\u001b[37m\u001b[0m \u001b[1m505s\u001b[0m 533ms/step - accuracy: 0.9013 - loss: 0.2351 - val_accuracy: 0.6436 - val_loss: 0.8363\n",
            "Epoch 4/10\n",
            "\u001b[1m937/937\u001b[0m \u001b[32m━━━━━━━━━━━━━━━━━━━━\u001b[0m\u001b[37m\u001b[0m \u001b[1m515s\u001b[0m 547ms/step - accuracy: 0.9309 - loss: 0.1527 - val_accuracy: 0.6332 - val_loss: 1.0918\n",
            "Epoch 5/10\n",
            "\u001b[1m937/937\u001b[0m \u001b[32m━━━━━━━━━━━━━━━━━━━━\u001b[0m\u001b[37m\u001b[0m \u001b[1m565s\u001b[0m 550ms/step - accuracy: 0.9508 - loss: 0.1092 - val_accuracy: 0.6228 - val_loss: 1.4071\n",
            "Epoch 6/10\n",
            "\u001b[1m937/937\u001b[0m \u001b[32m━━━━━━━━━━━━━━━━━━━━\u001b[0m\u001b[37m\u001b[0m \u001b[1m583s\u001b[0m 572ms/step - accuracy: 0.9627 - loss: 0.0860 - val_accuracy: 0.6246 - val_loss: 1.6242\n",
            "Epoch 7/10\n",
            "\u001b[1m937/937\u001b[0m \u001b[32m━━━━━━━━━━━━━━━━━━━━\u001b[0m\u001b[37m\u001b[0m \u001b[1m546s\u001b[0m 555ms/step - accuracy: 0.9732 - loss: 0.0629 - val_accuracy: 0.6188 - val_loss: 1.7383\n",
            "Epoch 8/10\n",
            "\u001b[1m937/937\u001b[0m \u001b[32m━━━━━━━━━━━━━━━━━━━━\u001b[0m\u001b[37m\u001b[0m \u001b[1m530s\u001b[0m 565ms/step - accuracy: 0.9789 - loss: 0.0495 - val_accuracy: 0.6208 - val_loss: 2.0796\n",
            "Epoch 9/10\n",
            "\u001b[1m937/937\u001b[0m \u001b[32m━━━━━━━━━━━━━━━━━━━━\u001b[0m\u001b[37m\u001b[0m \u001b[1m559s\u001b[0m 562ms/step - accuracy: 0.9840 - loss: 0.0403 - val_accuracy: 0.6232 - val_loss: 2.3096\n",
            "Epoch 10/10\n",
            "\u001b[1m937/937\u001b[0m \u001b[32m━━━━━━━━━━━━━━━━━━━━\u001b[0m\u001b[37m\u001b[0m \u001b[1m565s\u001b[0m 565ms/step - accuracy: 0.9876 - loss: 0.0314 - val_accuracy: 0.6231 - val_loss: 2.2882\n",
            "\u001b[1m1171/1171\u001b[0m \u001b[32m━━━━━━━━━━━━━━━━━━━━\u001b[0m\u001b[37m\u001b[0m \u001b[1m3s\u001b[0m 2ms/step - accuracy: 0.6230 - loss: 2.2904\n",
            "Test Accuracy: 0.62\n"
          ]
        }
      ]
    },
    {
      "cell_type": "code",
      "source": [
        "from sklearn.metrics import precision_score, recall_score, f1_score, confusion_matrix, average_precision_score\n",
        "import numpy as np\n",
        "\n",
        "# Make predictions\n",
        "y_pred_probs = model.predict(X_test_prepared)  # Predicted probabilities\n",
        "y_pred = (y_pred_probs > 0.5).astype(int)  # Convert to binary (assuming binary classification)\n",
        "\n",
        "# Precision\n",
        "precision = precision_score(y_test_prepared, y_pred, average='binary')  # Use 'micro', 'macro', or 'weighted' for multi-class\n",
        "print(f\"Precision: {precision:.2f}\")\n",
        "\n",
        "# Recall\n",
        "recall = recall_score(y_test_prepared, y_pred, average='binary')\n",
        "print(f\"Recall: {recall:.2f}\")\n",
        "\n",
        "# F1 Score\n",
        "f1 = f1_score(y_test_prepared, y_pred, average='binary')\n",
        "print(f\"F1 Score: {f1:.2f}\")\n",
        "\n",
        "# Confusion Matrix\n",
        "conf_matrix = confusion_matrix(y_test_prepared, y_pred)\n",
        "print(\"Confusion Matrix:\")\n",
        "print(conf_matrix)\n",
        "\n",
        "# Mean Average Precision (MAP)\n",
        "average_precision = average_precision_score(y_test_prepared, y_pred_probs)\n",
        "print(f\"Mean Average Precision (MAP): {average_precision:.2f}\")\n"
      ],
      "metadata": {
        "colab": {
          "base_uri": "https://localhost:8080/"
        },
        "id": "hOAp6Cu5IB9T",
        "outputId": "e9c75840-1fc8-40bf-8b34-5aff10d517ed"
      },
      "id": "hOAp6Cu5IB9T",
      "execution_count": null,
      "outputs": [
        {
          "output_type": "stream",
          "name": "stdout",
          "text": [
            "\u001b[1m1171/1171\u001b[0m \u001b[32m━━━━━━━━━━━━━━━━━━━━\u001b[0m\u001b[37m\u001b[0m \u001b[1m9s\u001b[0m 7ms/step\n",
            "Precision: 0.63\n",
            "Recall: 0.58\n",
            "F1 Score: 0.61\n",
            "Confusion Matrix:\n",
            "[[12411  6334]\n",
            " [ 7816 10893]]\n",
            "Mean Average Precision (MAP): 0.66\n"
          ]
        }
      ]
    },
    {
      "cell_type": "code",
      "source": [],
      "metadata": {
        "id": "AF4x3gedWHfp"
      },
      "id": "AF4x3gedWHfp",
      "execution_count": null,
      "outputs": []
    },
    {
      "cell_type": "markdown",
      "source": [
        "# **Model Trained with UnBalanced Data with Rating Scale (1-7)**\n"
      ],
      "metadata": {
        "id": "YDIsYxZvnskA"
      },
      "id": "YDIsYxZvnskA"
    },
    {
      "cell_type": "code",
      "source": [
        "import pandas as pd\n",
        "import numpy as np\n",
        "from sklearn.model_selection import train_test_split\n",
        "from sklearn.preprocessing import LabelEncoder, MinMaxScaler\n",
        "from tensorflow.keras.models import Model\n",
        "from tensorflow.keras.layers import Input, Embedding, Flatten, Dense, Concatenate, Dropout\n",
        "from tensorflow.keras.optimizers import Adam\n",
        "\n",
        "# Load data\n",
        "# If using Kaggle, ensure the Kaggle API is configured and download the dataset\n",
        "# If using files, replace the path variables with file paths\n",
        "def load_data():\n",
        "    users = pd.read_csv('BX-Users.csv', sep=';', encoding='latin-1')\n",
        "    books = pd.read_csv('BX_Books.csv', sep=';', encoding='latin-1', on_bad_lines='skip')\n",
        "    ratings = pd.read_csv('BX-Book-Ratings.csv', sep=';', encoding='latin-1')\n",
        "\n",
        "    return users, books, ratings\n",
        "\n",
        "users, books, ratings = load_data()\n",
        "\n",
        "# Preprocessing Users Table\n",
        "users['Age'].fillna(users['Age'].median(), inplace=True)\n",
        "users['Location'] = users['Location'].str.split(',').str[-1].str.strip() # Simplify to country level\n",
        "\n",
        "# Preprocessing Books Table\n",
        "books['Book-Title'].fillna('Unknown', inplace=True)\n",
        "books['Book-Author'].fillna('Unknown', inplace=True)\n",
        "books['Year-Of-Publication'].fillna(books['Year-Of-Publication'].median(), inplace=True)\n",
        "\n",
        "# Filter ratings and merge\n",
        "ratings = ratings[ratings['Book-Rating'] > 0] # Remove implicit feedback\n",
        "ratings = ratings.merge(users, on='User-ID').merge(books, on='ISBN')\n",
        "\n",
        "# Indexing Book ID starting from 1\n",
        "ratings['Book-ID'] = pd.factorize(ratings['ISBN'])[0] + 1\n",
        "\n",
        "# Label encoding categorical variables\n",
        "user_encoder = LabelEncoder()\n",
        "ratings['User-ID'] = user_encoder.fit_transform(ratings['User-ID'])\n",
        "\n",
        "location_encoder = LabelEncoder()\n",
        "ratings['Location'] = location_encoder.fit_transform(ratings['Location'])\n",
        "\n",
        "book_title_encoder = LabelEncoder()\n",
        "ratings['Book-Title'] = book_title_encoder.fit_transform(ratings['Book-Title'])\n",
        "\n",
        "book_author_encoder = LabelEncoder()\n",
        "ratings['Book-Author'] = book_author_encoder.fit_transform(ratings['Book-Author'])\n",
        "\n",
        "# Scale numerical features\n",
        "scaler = MinMaxScaler()\n",
        "ratings['Age'] = scaler.fit_transform(ratings[['Age']])\n",
        "ratings['Year-Of-Publication'] = scaler.fit_transform(ratings[['Year-Of-Publication']])\n",
        "\n",
        "# Label ratings\n",
        "ratings['Label'] = (ratings['Book-Rating'] > 7).astype(int)\n",
        "\n",
        "\n",
        "\n",
        "\n",
        "\n",
        "# Split features and labels\n",
        "X = ratings[['User-ID', 'Location', 'Age', 'Book-ID', 'Book-Title', 'Book-Author', 'Year-Of-Publication']]\n",
        "y = ratings['Label']\n",
        "\n",
        "# Train-test split\n",
        "X_train, X_test, y_train, y_test = train_test_split(X, y, test_size=0.2, random_state=42)\n",
        "\n",
        "# Define the neural network\n",
        "def build_model(num_users, num_locations, num_books, num_titles, num_authors, embedding_dim=50):\n",
        "    # Inputs\n",
        "    user_input = Input(shape=(1,), name='User-ID')\n",
        "    location_input = Input(shape=(1,), name='Location')\n",
        "    age_input = Input(shape=(1,), name='Age')\n",
        "    book_input = Input(shape=(1,), name='Book-ID')\n",
        "    title_input = Input(shape=(1,), name='Book-Title')\n",
        "    author_input = Input(shape=(1,), name='Book-Author')\n",
        "    year_input = Input(shape=(1,), name='Year-Of-Publication')\n",
        "\n",
        "    # Embedding layers\n",
        "    user_embedding = Embedding(num_users, embedding_dim, input_length=1)(user_input)\n",
        "    location_embedding = Embedding(num_locations, embedding_dim, input_length=1)(location_input)\n",
        "    book_embedding = Embedding(num_books, embedding_dim, input_length=1)(book_input)\n",
        "    title_embedding = Embedding(num_titles, embedding_dim, input_length=1)(title_input)\n",
        "    author_embedding = Embedding(num_authors, embedding_dim, input_length=1)(author_input)\n",
        "\n",
        "    # Flatten embeddings\n",
        "    user_flat = Flatten()(user_embedding)\n",
        "    location_flat = Flatten()(location_embedding)\n",
        "    book_flat = Flatten()(book_embedding)\n",
        "    title_flat = Flatten()(title_embedding)\n",
        "    author_flat = Flatten()(author_embedding)\n",
        "\n",
        "    # Combine all features\n",
        "    features = Concatenate()([user_flat, location_flat, age_input, book_flat, title_flat, author_flat, year_input])\n",
        "\n",
        "    # Dense layers\n",
        "    dense = Dense(128, activation='relu')(features)\n",
        "    dense = Dropout(0.5)(dense)\n",
        "    dense = Dense(64, activation='relu')(dense)\n",
        "    dense = Dropout(0.5)(dense)\n",
        "    output = Dense(1, activation='sigmoid')(dense)\n",
        "\n",
        "    # Model\n",
        "    model = Model(inputs=[user_input, location_input, age_input, book_input, title_input, author_input, year_input], outputs=output)\n",
        "    model.compile(optimizer=Adam(learning_rate=0.001), loss='binary_crossentropy', metrics=['accuracy'])\n",
        "\n",
        "    return model\n",
        "\n",
        "# Build the model\n",
        "num_users = ratings['User-ID'].nunique()+1\n",
        "num_locations = ratings['Location'].nunique()+1\n",
        "num_books = ratings['Book-ID'].nunique()+1\n",
        "num_titles = ratings['Book-Title'].nunique()+1\n",
        "num_authors = ratings['Book-Author'].nunique()+1\n",
        "\n",
        "model = build_model(num_users, num_locations, num_books, num_titles, num_authors)\n"
      ],
      "metadata": {
        "colab": {
          "base_uri": "https://localhost:8080/"
        },
        "id": "xSos_oYuWQT4",
        "outputId": "a1223d44-3926-41b3-da3f-1c05ed77e5df"
      },
      "id": "xSos_oYuWQT4",
      "execution_count": null,
      "outputs": [
        {
          "output_type": "stream",
          "name": "stderr",
          "text": [
            "<ipython-input-9-e10ffb6eee8d>:22: FutureWarning: A value is trying to be set on a copy of a DataFrame or Series through chained assignment using an inplace method.\n",
            "The behavior will change in pandas 3.0. This inplace method will never work because the intermediate object on which we are setting values always behaves as a copy.\n",
            "\n",
            "For example, when doing 'df[col].method(value, inplace=True)', try using 'df.method({col: value}, inplace=True)' or df[col] = df[col].method(value) instead, to perform the operation inplace on the original object.\n",
            "\n",
            "\n",
            "  users['Age'].fillna(users['Age'].median(), inplace=True)\n",
            "<ipython-input-9-e10ffb6eee8d>:26: FutureWarning: A value is trying to be set on a copy of a DataFrame or Series through chained assignment using an inplace method.\n",
            "The behavior will change in pandas 3.0. This inplace method will never work because the intermediate object on which we are setting values always behaves as a copy.\n",
            "\n",
            "For example, when doing 'df[col].method(value, inplace=True)', try using 'df.method({col: value}, inplace=True)' or df[col] = df[col].method(value) instead, to perform the operation inplace on the original object.\n",
            "\n",
            "\n",
            "  books['Book-Title'].fillna('Unknown', inplace=True)\n",
            "<ipython-input-9-e10ffb6eee8d>:27: FutureWarning: A value is trying to be set on a copy of a DataFrame or Series through chained assignment using an inplace method.\n",
            "The behavior will change in pandas 3.0. This inplace method will never work because the intermediate object on which we are setting values always behaves as a copy.\n",
            "\n",
            "For example, when doing 'df[col].method(value, inplace=True)', try using 'df.method({col: value}, inplace=True)' or df[col] = df[col].method(value) instead, to perform the operation inplace on the original object.\n",
            "\n",
            "\n",
            "  books['Book-Author'].fillna('Unknown', inplace=True)\n",
            "<ipython-input-9-e10ffb6eee8d>:28: FutureWarning: A value is trying to be set on a copy of a DataFrame or Series through chained assignment using an inplace method.\n",
            "The behavior will change in pandas 3.0. This inplace method will never work because the intermediate object on which we are setting values always behaves as a copy.\n",
            "\n",
            "For example, when doing 'df[col].method(value, inplace=True)', try using 'df.method({col: value}, inplace=True)' or df[col] = df[col].method(value) instead, to perform the operation inplace on the original object.\n",
            "\n",
            "\n",
            "  books['Year-Of-Publication'].fillna(books['Year-Of-Publication'].median(), inplace=True)\n",
            "/usr/local/lib/python3.10/dist-packages/keras/src/layers/core/embedding.py:90: UserWarning: Argument `input_length` is deprecated. Just remove it.\n",
            "  warnings.warn(\n"
          ]
        }
      ]
    },
    {
      "cell_type": "code",
      "source": [
        "import seaborn as sns\n",
        "import matplotlib.pyplot as plt\n",
        "sns.countplot(x='Label', data=ratings)\n",
        "plt.title('Label Distribution')\n",
        "plt.show()\n",
        "\n"
      ],
      "metadata": {
        "colab": {
          "base_uri": "https://localhost:8080/",
          "height": 472
        },
        "id": "tBa_xx8wWU3B",
        "outputId": "d13c5ac4-511b-406a-fa3d-e2665fa3ea8b"
      },
      "id": "tBa_xx8wWU3B",
      "execution_count": null,
      "outputs": [
        {
          "output_type": "display_data",
          "data": {
            "text/plain": [
              "<Figure size 640x480 with 1 Axes>"
            ],
            "image/png": "[encoded data removed]"
          },
          "metadata": {}
        }
      ]
    },
    {
      "cell_type": "code",
      "source": [
        "# Ensure inputs are NumPy arrays with correct data types\n",
        "X_train_prepared = [\n",
        "    np.array(X_train['User-ID'], dtype=np.int32),\n",
        "    np.array(X_train['Location'], dtype=np.int32),\n",
        "    np.array(X_train['Age'], dtype=np.float32),\n",
        "    np.array(X_train['Book-ID'], dtype=np.int32),\n",
        "    np.array(X_train['Book-Title'], dtype=np.int32),\n",
        "    np.array(X_train['Book-Author'], dtype=np.int32),\n",
        "    np.array(X_train['Year-Of-Publication'], dtype=np.float32),\n",
        "]\n",
        "\n",
        "X_test_prepared = [\n",
        "    np.array(X_test['User-ID'], dtype=np.int32),\n",
        "    np.array(X_test['Location'], dtype=np.int32),\n",
        "    np.array(X_test['Age'], dtype=np.float32),\n",
        "    np.array(X_test['Book-ID'], dtype=np.int32),\n",
        "    np.array(X_test['Book-Title'], dtype=np.int32),\n",
        "    np.array(X_test['Book-Author'], dtype=np.int32),\n",
        "    np.array(X_test['Year-Of-Publication'], dtype=np.float32),\n",
        "]\n",
        "\n",
        "# Labels as NumPy arrays\n",
        "y_train_prepared = np.array(y_train, dtype=np.float32)\n",
        "y_test_prepared = np.array(y_test, dtype=np.float32)\n",
        "\n",
        "# Train the model\n",
        "history = model.fit(\n",
        "    X_train_prepared,\n",
        "    y_train_prepared,\n",
        "    validation_split=0.2,\n",
        "    epochs=10,\n",
        "    batch_size=128,\n",
        "    verbose=1\n",
        ")\n",
        "\n",
        "# Evaluate the model\n",
        "loss, accuracy = model.evaluate(X_test_prepared, y_test_prepared)\n",
        "\n",
        "print(f\"Test Accuracy: {accuracy:.2f}\")\n"
      ],
      "metadata": {
        "colab": {
          "base_uri": "https://localhost:8080/"
        },
        "id": "rrM_Py4EWZHP",
        "outputId": "8e2a42a9-b8d5-42f3-9825-3bd672908879"
      },
      "id": "rrM_Py4EWZHP",
      "execution_count": null,
      "outputs": [
        {
          "output_type": "stream",
          "name": "stdout",
          "text": [
            "Epoch 1/10\n",
            "\u001b[1m1920/1920\u001b[0m \u001b[32m━━━━━━━━━━━━━━━━━━━━\u001b[0m\u001b[37m\u001b[0m \u001b[1m362s\u001b[0m 187ms/step - accuracy: 0.6249 - loss: 0.6361 - val_accuracy: 0.6747 - val_loss: 0.5875\n",
            "Epoch 2/10\n",
            "\u001b[1m1920/1920\u001b[0m \u001b[32m━━━━━━━━━━━━━━━━━━━━\u001b[0m\u001b[37m\u001b[0m \u001b[1m389s\u001b[0m 191ms/step - accuracy: 0.8014 - loss: 0.4415 - val_accuracy: 0.6573 - val_loss: 0.6439\n",
            "Epoch 3/10\n",
            "\u001b[1m1920/1920\u001b[0m \u001b[32m━━━━━━━━━━━━━━━━━━━━\u001b[0m\u001b[37m\u001b[0m \u001b[1m387s\u001b[0m 194ms/step - accuracy: 0.8720 - loss: 0.2958 - val_accuracy: 0.6511 - val_loss: 0.7392\n",
            "Epoch 4/10\n",
            "\u001b[1m1920/1920\u001b[0m \u001b[32m━━━━━━━━━━━━━━━━━━━━\u001b[0m\u001b[37m\u001b[0m \u001b[1m381s\u001b[0m 193ms/step - accuracy: 0.8973 - loss: 0.2249 - val_accuracy: 0.6489 - val_loss: 0.9020\n",
            "Epoch 5/10\n",
            "\u001b[1m1920/1920\u001b[0m \u001b[32m━━━━━━━━━━━━━━━━━━━━\u001b[0m\u001b[37m\u001b[0m \u001b[1m380s\u001b[0m 192ms/step - accuracy: 0.9194 - loss: 0.1750 - val_accuracy: 0.6364 - val_loss: 1.0900\n",
            "Epoch 6/10\n",
            "\u001b[1m1920/1920\u001b[0m \u001b[32m━━━━━━━━━━━━━━━━━━━━\u001b[0m\u001b[37m\u001b[0m \u001b[1m372s\u001b[0m 194ms/step - accuracy: 0.9346 - loss: 0.1430 - val_accuracy: 0.6381 - val_loss: 1.3333\n",
            "Epoch 7/10\n",
            "\u001b[1m1920/1920\u001b[0m \u001b[32m━━━━━━━━━━━━━━━━━━━━\u001b[0m\u001b[37m\u001b[0m \u001b[1m372s\u001b[0m 189ms/step - accuracy: 0.9462 - loss: 0.1187 - val_accuracy: 0.6333 - val_loss: 1.5398\n",
            "Epoch 8/10\n",
            "\u001b[1m1920/1920\u001b[0m \u001b[32m━━━━━━━━━━━━━━━━━━━━\u001b[0m\u001b[37m\u001b[0m \u001b[1m362s\u001b[0m 189ms/step - accuracy: 0.9543 - loss: 0.1011 - val_accuracy: 0.6260 - val_loss: 1.6272\n",
            "Epoch 9/10\n",
            "\u001b[1m1920/1920\u001b[0m \u001b[32m━━━━━━━━━━━━━━━━━━━━\u001b[0m\u001b[37m\u001b[0m \u001b[1m385s\u001b[0m 190ms/step - accuracy: 0.9608 - loss: 0.0877 - val_accuracy: 0.6225 - val_loss: 1.7584\n",
            "Epoch 10/10\n",
            "\u001b[1m1920/1920\u001b[0m \u001b[32m━━━━━━━━━━━━━━━━━━━━\u001b[0m\u001b[37m\u001b[0m \u001b[1m382s\u001b[0m 190ms/step - accuracy: 0.9656 - loss: 0.0776 - val_accuracy: 0.6221 - val_loss: 1.8422\n",
            "\u001b[1m2400/2400\u001b[0m \u001b[32m━━━━━━━━━━━━━━━━━━━━\u001b[0m\u001b[37m\u001b[0m \u001b[1m4s\u001b[0m 2ms/step - accuracy: 0.6246 - loss: 1.8219\n",
            "Test Accuracy: 0.63\n"
          ]
        }
      ]
    },
    {
      "cell_type": "code",
      "source": [
        "from sklearn.metrics import precision_score, recall_score, f1_score, confusion_matrix, average_precision_score\n",
        "import numpy as np\n",
        "\n",
        "# Make predictions\n",
        "y_pred_probs = model.predict(X_test_prepared)  # Predicted probabilities\n",
        "y_pred = (y_pred_probs > 0.5).astype(int)  # Convert to binary (assuming binary classification)\n",
        "\n",
        "# Precision\n",
        "precision = precision_score(y_test_prepared, y_pred, average='binary')  # Use 'micro', 'macro', or 'weighted' for multi-class\n",
        "print(f\"Precision: {precision:.2f}\")\n",
        "\n",
        "# Recall\n",
        "recall = recall_score(y_test_prepared, y_pred, average='binary')\n",
        "print(f\"Recall: {recall:.2f}\")\n",
        "\n",
        "# F1 Score\n",
        "f1 = f1_score(y_test_prepared, y_pred, average='binary')\n",
        "print(f\"F1 Score: {f1:.2f}\")\n",
        "\n",
        "# Confusion Matrix\n",
        "conf_matrix = confusion_matrix(y_test_prepared, y_pred)\n",
        "print(\"Confusion Matrix:\")\n",
        "print(conf_matrix)\n",
        "\n",
        "# Mean Average Precision (MAP)\n",
        "average_precision = average_precision_score(y_test_prepared, y_pred_probs)\n",
        "print(f\"Mean Average Precision (MAP): {average_precision:.2f}\")\n"
      ],
      "metadata": {
        "id": "yrkk-laivwLi",
        "outputId": "16eaf7de-0d90-4d13-a37e-fe0d5f18742c",
        "colab": {
          "base_uri": "https://localhost:8080/"
        }
      },
      "id": "yrkk-laivwLi",
      "execution_count": null,
      "outputs": [
        {
          "output_type": "stream",
          "name": "stdout",
          "text": [
            "\u001b[1m2400/2400\u001b[0m \u001b[32m━━━━━━━━━━━━━━━━━━━━\u001b[0m\u001b[37m\u001b[0m \u001b[1m5s\u001b[0m 2ms/step\n",
            "Precision: 0.69\n",
            "Recall: 0.66\n",
            "F1 Score: 0.67\n",
            "Confusion Matrix:\n",
            "[[18665 13462]\n",
            " [15271 29373]]\n",
            "Mean Average Precision (MAP): 0.72\n"
          ]
        }
      ]
    }
  ],
  "metadata": {
    "colab": {
      "provenance": []
    },
    "language_info": {
      "name": "python"
    },
    "kernelspec": {
      "name": "python3",
      "display_name": "Python 3"
    }
  },
  "nbformat": 4,
  "nbformat_minor": 5
}