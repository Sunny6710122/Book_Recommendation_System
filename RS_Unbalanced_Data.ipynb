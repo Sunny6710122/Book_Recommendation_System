{
  "cells": [
    {
      "cell_type": "markdown",
      "source": [
        "# **Model trained with UnBalanced Data and Rating Scale (1-6)**"
      ],
      "metadata": {
        "id": "qQQ5n6kcoD_r"
      }
    },
    {
      "cell_type": "code",
      "execution_count": null,
      "metadata": {
        "colab": {
          "base_uri": "https://localhost:8080/"
        },
        "id": "O6L5NIIPtmFI",
        "outputId": "ee05e6d5-73b2-4741-a2cb-413da6df8d58"
      },
      "outputs": [
        {
          "name": "stderr",
          "output_type": "stream",
          "text": [
            "<ipython-input-1-4bd18483b0a2>:22: FutureWarning: A value is trying to be set on a copy of a DataFrame or Series through chained assignment using an inplace method.\n",
            "The behavior will change in pandas 3.0. This inplace method will never work because the intermediate object on which we are setting values always behaves as a copy.\n",
            "\n",
            "For example, when doing 'df[col].method(value, inplace=True)', try using 'df.method({col: value}, inplace=True)' or df[col] = df[col].method(value) instead, to perform the operation inplace on the original object.\n",
            "\n",
            "\n",
            "  users['Age'].fillna(users['Age'].median(), inplace=True)\n",
            "<ipython-input-1-4bd18483b0a2>:26: FutureWarning: A value is trying to be set on a copy of a DataFrame or Series through chained assignment using an inplace method.\n",
            "The behavior will change in pandas 3.0. This inplace method will never work because the intermediate object on which we are setting values always behaves as a copy.\n",
            "\n",
            "For example, when doing 'df[col].method(value, inplace=True)', try using 'df.method({col: value}, inplace=True)' or df[col] = df[col].method(value) instead, to perform the operation inplace on the original object.\n",
            "\n",
            "\n",
            "  books['Book-Title'].fillna('Unknown', inplace=True)\n",
            "<ipython-input-1-4bd18483b0a2>:27: FutureWarning: A value is trying to be set on a copy of a DataFrame or Series through chained assignment using an inplace method.\n",
            "The behavior will change in pandas 3.0. This inplace method will never work because the intermediate object on which we are setting values always behaves as a copy.\n",
            "\n",
            "For example, when doing 'df[col].method(value, inplace=True)', try using 'df.method({col: value}, inplace=True)' or df[col] = df[col].method(value) instead, to perform the operation inplace on the original object.\n",
            "\n",
            "\n",
            "  books['Book-Author'].fillna('Unknown', inplace=True)\n",
            "<ipython-input-1-4bd18483b0a2>:28: FutureWarning: A value is trying to be set on a copy of a DataFrame or Series through chained assignment using an inplace method.\n",
            "The behavior will change in pandas 3.0. This inplace method will never work because the intermediate object on which we are setting values always behaves as a copy.\n",
            "\n",
            "For example, when doing 'df[col].method(value, inplace=True)', try using 'df.method({col: value}, inplace=True)' or df[col] = df[col].method(value) instead, to perform the operation inplace on the original object.\n",
            "\n",
            "\n",
            "  books['Year-Of-Publication'].fillna(books['Year-Of-Publication'].median(), inplace=True)\n",
            "/usr/local/lib/python3.10/dist-packages/keras/src/layers/core/embedding.py:90: UserWarning: Argument `input_length` is deprecated. Just remove it.\n",
            "  warnings.warn(\n"
          ]
        }
      ],
      "source": [
        "import pandas as pd\n",
        "import numpy as np\n",
        "from sklearn.model_selection import train_test_split\n",
        "from sklearn.preprocessing import LabelEncoder, MinMaxScaler\n",
        "from tensorflow.keras.models import Model\n",
        "from tensorflow.keras.layers import Input, Embedding, Flatten, Dense, Concatenate, Dropout\n",
        "from tensorflow.keras.optimizers import Adam\n",
        "\n",
        "# Load data\n",
        "# If using Kaggle, ensure the Kaggle API is configured and download the dataset\n",
        "# If using files, replace the path variables with file paths\n",
        "def load_data():\n",
        "    users = pd.read_csv('BX-Users.csv', sep=';', encoding='latin-1')\n",
        "    books = pd.read_csv('BX_Books.csv', sep=';', encoding='latin-1', on_bad_lines='skip')\n",
        "    ratings = pd.read_csv('BX-Book-Ratings.csv', sep=';', encoding='latin-1')\n",
        "\n",
        "    return users, books, ratings\n",
        "\n",
        "users, books, ratings = load_data()\n",
        "\n",
        "# Preprocessing Users Table\n",
        "users['Age'].fillna(users['Age'].median(), inplace=True)\n",
        "users['Location'] = users['Location'].str.split(',').str[-1].str.strip() # Simplify to country level\n",
        "\n",
        "# Preprocessing Books Table\n",
        "books['Book-Title'].fillna('Unknown', inplace=True)\n",
        "books['Book-Author'].fillna('Unknown', inplace=True)\n",
        "books['Year-Of-Publication'].fillna(books['Year-Of-Publication'].median(), inplace=True)\n",
        "\n",
        "# Filter ratings and merge\n",
        "ratings = ratings[ratings['Book-Rating'] > 0] # Remove implicit feedback\n",
        "ratings = ratings.merge(users, on='User-ID').merge(books, on='ISBN')\n",
        "\n",
        "# Indexing Book ID starting from 1\n",
        "ratings['Book-ID'] = pd.factorize(ratings['ISBN'])[0] + 1\n",
        "\n",
        "# Label encoding categorical variables\n",
        "user_encoder = LabelEncoder()\n",
        "ratings['User-ID'] = user_encoder.fit_transform(ratings['User-ID'])\n",
        "\n",
        "location_encoder = LabelEncoder()\n",
        "ratings['Location'] = location_encoder.fit_transform(ratings['Location'])\n",
        "\n",
        "book_title_encoder = LabelEncoder()\n",
        "ratings['Book-Title'] = book_title_encoder.fit_transform(ratings['Book-Title'])\n",
        "\n",
        "book_author_encoder = LabelEncoder()\n",
        "ratings['Book-Author'] = book_author_encoder.fit_transform(ratings['Book-Author'])\n",
        "\n",
        "# Scale numerical features\n",
        "scaler = MinMaxScaler()\n",
        "ratings['Age'] = scaler.fit_transform(ratings[['Age']])\n",
        "ratings['Year-Of-Publication'] = scaler.fit_transform(ratings[['Year-Of-Publication']])\n",
        "\n",
        "# Label ratings\n",
        "ratings['Label'] = (ratings['Book-Rating'] > 6).astype(int)\n",
        "\n",
        "\n",
        "# Split features and labels\n",
        "X = ratings[['User-ID', 'Location', 'Age', 'Book-ID', 'Book-Title', 'Book-Author', 'Year-Of-Publication']]\n",
        "y = ratings['Label']\n",
        "\n",
        "# Train-test split\n",
        "X_train, X_test, y_train, y_test = train_test_split(X, y, test_size=0.2, random_state=42)\n",
        "\n",
        "# Define the neural network\n",
        "def build_model(num_users, num_locations, num_books, num_titles, num_authors, embedding_dim=50):\n",
        "    # Inputs\n",
        "    user_input = Input(shape=(1,), name='User-ID')\n",
        "    location_input = Input(shape=(1,), name='Location')\n",
        "    age_input = Input(shape=(1,), name='Age')\n",
        "    book_input = Input(shape=(1,), name='Book-ID')\n",
        "    title_input = Input(shape=(1,), name='Book-Title')\n",
        "    author_input = Input(shape=(1,), name='Book-Author')\n",
        "    year_input = Input(shape=(1,), name='Year-Of-Publication')\n",
        "\n",
        "    # Embedding layers\n",
        "    user_embedding = Embedding(num_users, embedding_dim, input_length=1)(user_input)\n",
        "    location_embedding = Embedding(num_locations, embedding_dim, input_length=1)(location_input)\n",
        "    book_embedding = Embedding(num_books, embedding_dim, input_length=1)(book_input)\n",
        "    title_embedding = Embedding(num_titles, embedding_dim, input_length=1)(title_input)\n",
        "    author_embedding = Embedding(num_authors, embedding_dim, input_length=1)(author_input)\n",
        "\n",
        "    # Flatten embeddings\n",
        "    user_flat = Flatten()(user_embedding)\n",
        "    location_flat = Flatten()(location_embedding)\n",
        "    book_flat = Flatten()(book_embedding)\n",
        "    title_flat = Flatten()(title_embedding)\n",
        "    author_flat = Flatten()(author_embedding)\n",
        "\n",
        "    # Combine all features\n",
        "    features = Concatenate()([user_flat, location_flat, age_input, book_flat, title_flat, author_flat, year_input])\n",
        "\n",
        "    # Dense layers\n",
        "    dense = Dense(256, activation='relu')(features)\n",
        "    dense = Dropout(0.5)(dense)\n",
        "    dense = Dense(128, activation='relu')(dense)\n",
        "    dense = Dropout(0.5)(dense)\n",
        "    dense = Dense(64, activation='relu')(dense)\n",
        "    dense = Dropout(0.5)(dense)\n",
        "    output = Dense(1, activation='sigmoid')(dense)\n",
        "\n",
        "    # Model\n",
        "    model = Model(inputs=[user_input, location_input, age_input, book_input, title_input, author_input, year_input], outputs=output)\n",
        "    model.compile(optimizer=Adam(learning_rate=0.001), loss='binary_crossentropy', metrics=['accuracy'])\n",
        "\n",
        "    return model\n",
        "\n",
        "# Build the model\n",
        "num_users = ratings['User-ID'].nunique()+1\n",
        "num_locations = ratings['Location'].nunique()+1\n",
        "num_books = ratings['Book-ID'].nunique()+1\n",
        "num_titles = ratings['Book-Title'].nunique()+1\n",
        "num_authors = ratings['Book-Author'].nunique()+1\n",
        "\n",
        "model = build_model(num_users, num_locations, num_books, num_titles, num_authors)\n"
      ]
    },
    {
      "cell_type": "code",
      "execution_count": null,
      "metadata": {
        "colab": {
          "base_uri": "https://localhost:8080/",
          "height": 472
        },
        "id": "9j98hXDLWCkJ",
        "outputId": "62300f95-285c-4bf4-dc8b-edaa6d831952"
      },
      "outputs": [
        {
          "data": {
            "image/png": "[encoded data removed]",
            "text/plain": [
              "<Figure size 640x480 with 1 Axes>"
            ]
          },
          "metadata": {},
          "output_type": "display_data"
        }
      ],
      "source": [
        "import seaborn as sns\n",
        "import matplotlib.pyplot as plt\n",
        "sns.countplot(x='Label', data=ratings)\n",
        "plt.title('Label Distribution')\n",
        "plt.show()\n"
      ]
    },
    {
      "cell_type": "code",
      "execution_count": null,
      "metadata": {
        "colab": {
          "background_save": true,
          "base_uri": "https://localhost:8080/"
        },
        "id": "yzRRhrDVynYF",
        "outputId": "6fe7328f-cd88-43dd-ff0d-d3f5ca1ad9bb"
      },
      "outputs": [
        {
          "name": "stdout",
          "output_type": "stream",
          "text": [
            "Epoch 1/10\n",
            "\u001b[1m1920/1920\u001b[0m \u001b[32m━━━━━━━━━━━━━━━━━━━━\u001b[0m\u001b[37m\u001b[0m \u001b[1m335s\u001b[0m 173ms/step - accuracy: 0.7625 - loss: 0.5284 - val_accuracy: 0.7867 - val_loss: 0.4739\n",
            "Epoch 2/10\n",
            "\u001b[1m1920/1920\u001b[0m \u001b[32m━━━━━━━━━━━━━━━━━━━━\u001b[0m\u001b[37m\u001b[0m \u001b[1m391s\u001b[0m 178ms/step - accuracy: 0.8562 - loss: 0.3463 - val_accuracy: 0.7554 - val_loss: 0.5437\n",
            "Epoch 3/10\n",
            "\u001b[1m1920/1920\u001b[0m \u001b[32m━━━━━━━━━━━━━━━━━━━━\u001b[0m\u001b[37m\u001b[0m \u001b[1m386s\u001b[0m 181ms/step - accuracy: 0.9021 - loss: 0.2400 - val_accuracy: 0.7175 - val_loss: 0.6605\n",
            "Epoch 4/10\n",
            "\u001b[1m1920/1920\u001b[0m \u001b[32m━━━━━━━━━━━━━━━━━━━━\u001b[0m\u001b[37m\u001b[0m \u001b[1m360s\u001b[0m 169ms/step - accuracy: 0.9269 - loss: 0.1719 - val_accuracy: 0.7199 - val_loss: 0.8061\n",
            "Epoch 5/10\n",
            "\u001b[1m1920/1920\u001b[0m \u001b[32m━━━━━━━━━━━━━━━━━━━━\u001b[0m\u001b[37m\u001b[0m \u001b[1m381s\u001b[0m 169ms/step - accuracy: 0.9437 - loss: 0.1304 - val_accuracy: 0.7138 - val_loss: 0.9907\n",
            "Epoch 6/10\n",
            "\u001b[1m1920/1920\u001b[0m \u001b[32m━━━━━━━━━━━━━━━━━━━━\u001b[0m\u001b[37m\u001b[0m \u001b[1m324s\u001b[0m 169ms/step - accuracy: 0.9551 - loss: 0.1033 - val_accuracy: 0.6932 - val_loss: 1.2213\n",
            "Epoch 7/10\n",
            "\u001b[1m1920/1920\u001b[0m \u001b[32m━━━━━━━━━━━━━━━━━━━━\u001b[0m\u001b[37m\u001b[0m \u001b[1m324s\u001b[0m 169ms/step - accuracy: 0.9660 - loss: 0.0804 - val_accuracy: 0.6903 - val_loss: 1.3209\n",
            "Epoch 8/10\n",
            "\u001b[1m1920/1920\u001b[0m \u001b[32m━━━━━━━━━━━━━━━━━━━━\u001b[0m\u001b[37m\u001b[0m \u001b[1m383s\u001b[0m 170ms/step - accuracy: 0.9722 - loss: 0.0658 - val_accuracy: 0.6853 - val_loss: 1.4425\n",
            "Epoch 9/10\n",
            "\u001b[1m1920/1920\u001b[0m \u001b[32m━━━━━━━━━━━━━━━━━━━━\u001b[0m\u001b[37m\u001b[0m \u001b[1m383s\u001b[0m 170ms/step - accuracy: 0.9779 - loss: 0.0534 - val_accuracy: 0.6789 - val_loss: 1.5863\n",
            "Epoch 10/10\n",
            "\u001b[1m1920/1920\u001b[0m \u001b[32m━━━━━━━━━━━━━━━━━━━━\u001b[0m\u001b[37m\u001b[0m \u001b[1m379s\u001b[0m 169ms/step - accuracy: 0.9826 - loss: 0.0439 - val_accuracy: 0.6838 - val_loss: 1.6351\n",
            "\u001b[1m2400/2400\u001b[0m \u001b[32m━━━━━━━━━━━━━━━━━━━━\u001b[0m\u001b[37m\u001b[0m \u001b[1m6s\u001b[0m 2ms/step - accuracy: 0.6804 - loss: 1.6305\n",
            "Test Accuracy: 0.68\n"
          ]
        }
      ],
      "source": [
        "# Ensure inputs are NumPy arrays with correct data types\n",
        "X_train_prepared = [\n",
        "    np.array(X_train['User-ID'], dtype=np.int32),\n",
        "    np.array(X_train['Location'], dtype=np.int32),\n",
        "    np.array(X_train['Age'], dtype=np.float32),\n",
        "    np.array(X_train['Book-ID'], dtype=np.int32),\n",
        "    np.array(X_train['Book-Title'], dtype=np.int32),\n",
        "    np.array(X_train['Book-Author'], dtype=np.int32),\n",
        "    np.array(X_train['Year-Of-Publication'], dtype=np.float32),\n",
        "]\n",
        "\n",
        "X_test_prepared = [\n",
        "    np.array(X_test['User-ID'], dtype=np.int32),\n",
        "    np.array(X_test['Location'], dtype=np.int32),\n",
        "    np.array(X_test['Age'], dtype=np.float32),\n",
        "    np.array(X_test['Book-ID'], dtype=np.int32),\n",
        "    np.array(X_test['Book-Title'], dtype=np.int32),\n",
        "    np.array(X_test['Book-Author'], dtype=np.int32),\n",
        "    np.array(X_test['Year-Of-Publication'], dtype=np.float32),\n",
        "]\n",
        "\n",
        "# Labels as NumPy arrays\n",
        "y_train_prepared = np.array(y_train, dtype=np.float32)\n",
        "y_test_prepared = np.array(y_test, dtype=np.float32)\n",
        "\n",
        "# Train the model\n",
        "history = model.fit(\n",
        "    X_train_prepared,\n",
        "    y_train_prepared,\n",
        "    validation_split=0.2,\n",
        "    epochs=10,\n",
        "    batch_size=128,\n",
        "    verbose=1\n",
        ")\n",
        "\n",
        "# Evaluate the model\n",
        "loss, accuracy = model.evaluate(X_test_prepared, y_test_prepared)\n",
        "\n",
        "print(f\"Test Accuracy: {accuracy:.2f}\")\n"
      ]
    },
    {
      "cell_type": "code",
      "source": [
        "from sklearn.metrics import precision_score, recall_score, f1_score, confusion_matrix, average_precision_score\n",
        "import numpy as np\n",
        "\n",
        "# Make predictions\n",
        "y_pred_probs = model.predict(X_test_prepared)  # Predicted probabilities\n",
        "y_pred = (y_pred_probs > 0.5).astype(int)  # Convert to binary (assuming binary classification)\n",
        "\n",
        "# Precision\n",
        "precision = precision_score(y_test_prepared, y_pred, average='binary')  # Use 'micro', 'macro', or 'weighted' for multi-class\n",
        "print(f\"Precision: {precision:.2f}\")\n",
        "\n",
        "# Recall\n",
        "recall = recall_score(y_test_prepared, y_pred, average='binary')\n",
        "print(f\"Recall: {recall:.2f}\")\n",
        "\n",
        "# F1 Score\n",
        "f1 = f1_score(y_test_prepared, y_pred, average='binary')\n",
        "print(f\"F1 Score: {f1:.2f}\")\n",
        "\n",
        "# Confusion Matrix\n",
        "conf_matrix = confusion_matrix(y_test_prepared, y_pred)\n",
        "print(\"Confusion Matrix:\")\n",
        "print(conf_matrix)\n",
        "\n",
        "# Mean Average Precision (MAP)\n",
        "average_precision = average_precision_score(y_test_prepared, y_pred_probs)\n",
        "print(f\"Mean Average Precision (MAP): {average_precision:.2f}\")\n"
      ],
      "metadata": {
        "id": "hjBVoTexDhU-",
        "outputId": "dfcf27cf-db9a-4b97-980a-f7256fb0c3c9",
        "colab": {
          "base_uri": "https://localhost:8080/"
        }
      },
      "execution_count": null,
      "outputs": [
        {
          "output_type": "stream",
          "name": "stdout",
          "text": [
            "\u001b[1m2400/2400\u001b[0m \u001b[32m━━━━━━━━━━━━━━━━━━━━\u001b[0m\u001b[37m\u001b[0m \u001b[1m12s\u001b[0m 4ms/step\n",
            "Precision: 0.82\n",
            "Recall: 0.74\n",
            "F1 Score: 0.78\n",
            "Confusion Matrix:\n",
            "[[ 9414  9440]\n",
            " [15076 42841]]\n",
            "Mean Average Precision (MAP): 0.85\n"
          ]
        }
      ]
    }
  ],
  "metadata": {
    "colab": {
      "provenance": []
    },
    "kernelspec": {
      "display_name": "Python 3",
      "name": "python3"
    },
    "language_info": {
      "name": "python"
    }
  },
  "nbformat": 4,
  "nbformat_minor": 0
}